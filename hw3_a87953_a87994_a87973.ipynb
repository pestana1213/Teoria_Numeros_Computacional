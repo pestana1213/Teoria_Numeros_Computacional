{
 "cells": [
  {
   "cell_type": "markdown",
   "metadata": {},
   "source": [
    "\n",
    "<br>\n",
    "\n",
    "<div style =\"width: 100%;\">\n",
    "<table style =\"width: 100%;background-color:float:center;\">\n",
    "<tr>\n",
    "\n",
    "</tr>\n",
    "    \n",
    "<tr>\n",
    "        \n",
    "<td>\n",
    "<div style=\"font-size: 21px;Margin-left:-10px;\">\n",
    "<b>Assinatura digital RSA<b>\n",
    "</div>\n",
    "    <br>\n",
    "    <br>\n",
    "<div style=\"font-size: 16px;\">\n",
    "    \n",
    "Realizado por:\n",
    "\n",
    "Carlos Ferreira a87953\n",
    "\n",
    "Daniel Ribeiro a87994\n",
    "\n",
    "João Nogueira a87973\n",
    "</div>\n",
    "</td>\n",
    "<td >\n",
    "<div style=\"display:inline-block; float:right;Margin-right:0px;Margin-top:20px;\">\n",
    "<img src=\"https://www.ecum.uminho.pt/SiteAssets/ECUM-PT.png\" width=\"260\" height=\"120\">\n",
    "<div>\n",
    "</td>\n",
    "</tr>\n",
    "</table>\n",
    "</div>\n",
    "    "
   ]
  },
  {
   "cell_type": "markdown",
   "metadata": {},
   "source": [
    "# Assinatura Digital RSA\n",
    "No seguinte trabalho foi implementada a assinatura digital RSA, que consiste em uma técnica para a assinatura e validação de mensagens, visando a proteção da mesma. \n",
    "<br>\n",
    "<br>\n",
    "Suponhamos que a Alice deseja enviar uma mensagem assinada para o Bob. \n",
    "Ela pode usar a sua própria chave privada para o fazer, para isso produz um valor hash da mensagem, eleva-o à potência de d (chave privada) em módulo n:\n",
    "<br>\n",
    "$${\\displaystyle s = m^{d}{\\pmod{n}}}$$\n",
    "<br>\n",
    "e junta-o como uma \"assinatura\" à mensagem.\n",
    "<br>\n",
    "Quando o Bob recebe a mensagem assinada, ele usa o mesmo algoritmo de hash em conjunto com a chave pública da Alice. \n",
    "Ele depois eleva a assinatura à potência de e (módulo n):\n",
    "<br>\n",
    "$${\\displaystyle m = s^{e}{\\pmod {n}}}$$\n",
    "<br>\n",
    "e compara o valor hash resultante com o valor hash da mensagem. \n",
    "Se os dois coincidirem, ele sabe que o autor da mensagem foi a própria Alice ou alguém com a chave privada dela. \n",
    "<br>\n",
    "\n",
    "<img style= \"display: block;margin-left: auto;margin-right: auto;\" src=\"https://image.slidesharecdn.com/rsasigrvb-190416012730/95/rsa-signature-verification-6-638.jpg?cb=1555378207\" width=\"640\" height=\"320\">\n",
    "<br>\n",
    "\n",
    "De seguida iremos explicar como foi implementado este algoritmo em python, explicando cada função do mesmo suportado pela teoria por de trás disto tudo.\n",
    "\n"
   ]
  },
  {
   "cell_type": "markdown",
   "metadata": {},
   "source": [
    "## Geração das chaves\n",
    "\n",
    "\n",
    "Começamos por definir a função $\\textbf{key_generation}$ onde geramos as chaves públicas e privadas para uma lista de nomes passada por parâmetro, e para cada nome da lista vamos aplicar o algoritmo de geração das chaves:\n",
    "\n",
    "Começamos por gerar dois números primos grandes, distintos p e q.\n",
    "    \n",
    "Calculamos de seguida:\n",
    "$${\\displaystyle n=p\\cdot q}$$ \n",
    "\n",
    "E após isso o lambda(n) que é o minimo multiplo comum de (p-1,q-1):\n",
    "$${\\lambda(n)=lcm(p-1,q-1)}$$ \n",
    "\n",
    "E escolhemos um valor de 'e' aleatório onde o máximo divisor comum entre ele e o lambda seja igual a 1.\n",
    "\n",
    "Agora calculamos finalmente o d que vai ser a nossa chave privada tal que a seguinte equação seja verdade:\n",
    "\n",
    "$${d ≡ e^{−1} (mod \\space \\lambda (n))}$$ \n",
    "\n",
    "\n",
    "Temos então a nossa chave privada a ser esse valor de d. \n",
    "\n",
    "E a nossa chave publica vai ser o par (n,e).\n"
   ]
  },
  {
   "cell_type": "code",
   "execution_count": 102,
   "metadata": {},
   "outputs": [],
   "source": [
    "def key_generation(nomes):\n",
    "    keys = {}\n",
    "    for nome in nomes:\n",
    "        p = random_prime(2^150 , 2^152)\n",
    "        q = random_prime(2^148,2^149)\n",
    "        n = p * q\n",
    "        lambda_n =  lcm(p - 1, q - 1)\n",
    "        e = randint ( 0 , lambda_n - 1 )\n",
    "        while (gcd(e,lambda_n) != 1):\n",
    "            e = randint ( 0 , e - 1 )\n",
    "        d = inverse_mod(e,lambda_n)\n",
    "        keys[nome] = {}\n",
    "        keys[nome]['public_key'] = (n,e)\n",
    "        keys[nome]['private_key'] = d\n",
    "    return keys"
   ]
  },
  {
   "cell_type": "markdown",
   "metadata": {},
   "source": [
    "Função auxiliar de print"
   ]
  },
  {
   "cell_type": "code",
   "execution_count": 103,
   "metadata": {},
   "outputs": [
    {
     "name": "stdout",
     "output_type": "stream",
     "text": [
      "Henrique\n",
      "\tpublic_key\n",
      "\t\t(53790272515426648580258764901734561514275892348659038215202300086611683634263592210782029, 5434974425103743281596980630626112401935558430250450819545515469747234229698201146815963)\n",
      "\tprivate_key\n",
      "\t\t8093760433644170694497746839155971618920550253987795269920870960758705754057261580881683\n",
      "Daniel\n",
      "\tpublic_key\n",
      "\t\t(180214499152099661662581706509166106697029400454132521113462319830719689095430705418651081, 3612980323771307843242574558098267652919509165743108940285932573867025847314563938811)\n",
      "\tprivate_key\n",
      "\t\t65210220957454997003417276696970091953699605552498082078933878856809151585178564571827\n",
      "João\n",
      "\tpublic_key\n",
      "\t\t(12756942398837255917289105197402227561151423760566718512839841983378721554925478700753293, 3407815519684374481825323110770046364152785634313166617345120571305397660957440572325959)\n",
      "\tprivate_key\n",
      "\t\t2654527724475769205562007580314327643596690702474474523248092977233186394278558003349339\n"
     ]
    }
   ],
   "source": [
    "#função auxiliar para impressão bonita do dicionário\n",
    "def prettyPrint(d, indent=0):\n",
    "      for key, value in d.items():\n",
    "        print('\\t' * indent + str(key))\n",
    "        if isinstance(value, dict):\n",
    "             prettyPrint(value, indent+1)\n",
    "        else:\n",
    "             print('\\t' * (indent+1) + str(value))\n",
    "\n",
    "\n",
    "\n",
    "keys = key_generation(['Henrique','Daniel','João'])\n",
    "prettyPrint (keys)"
   ]
  },
  {
   "cell_type": "markdown",
   "metadata": {},
   "source": [
    "## Assinatura\n",
    "\n",
    "Na nossa função de assinatura é onde assinamos a mensagem, vai ter como argumentos o dicionário das chaves, a mensagem e o nome de quem a vai enviar.\n",
    "\n",
    "Começamos por calcular o hash da mensagem e após isso vamos assinar-la de acordo com a seguinte formula:\n",
    "\n",
    "$${\\displaystyle s = m^{d}{\\pmod {n}}}$$\n",
    "\n",
    "Sendo m o hash da mensagem, d a chave privada e n o primeiro componete da chave pública de quem envia.\n",
    "\n",
    "Ficamos então em s com a assinatura, e damos retorno à mensagem junta com a sua assinatura."
   ]
  },
  {
   "cell_type": "code",
   "execution_count": 101,
   "metadata": {},
   "outputs": [],
   "source": [
    "import hashlib\n",
    "def assinatura (keys, sender, mens):\n",
    "    \n",
    "  \n",
    "    HH = hashlib.sha256(mens).hexdigest()\n",
    "    HHH = ZZ('0x'+HH)\n",
    "    d = keys[sender]['private_key']\n",
    "    n = keys[sender]['public_key'][0]\n",
    "    \n",
    "    s = power_mod(HHH,d,n)\n",
    "    \n",
    "\n",
    "    print(\"Hash mensagem = \", HHH)\n",
    "    print(\"Assinatura = \", s)\n",
    "    return (mens,s)\n",
    "    \n",
    "\n"
   ]
  },
  {
   "cell_type": "markdown",
   "metadata": {},
   "source": [
    "## Validar assinatura\n",
    "\n",
    "Na função valida vamos verificar se a mensagem foi mesmo assinada pela pessoa pretendida.\n",
    "\n",
    "Como argumentos vamos precisar do nosso dicionário de chaves, a mensagem, a assinatura e o nome de quem enviou.\n",
    "\n",
    "Depois de guardarmos ambas as componentes da chave pública de quem fez o envio em 'n' e 'e' vamos passar á validação da assinatura.\n",
    "\n",
    "Como na assinatura da mesma, vamos fazer hash da mensagem e guardar esse hash em m1.\n",
    "\n",
    "E vamos utilizar a seguinte formula na assinatura:\n",
    "\n",
    "$${\\displaystyle m2 = s^{e}{\\pmod {n}}}$$\n",
    "\n",
    "Caso este m2 agora calculado for igual ao m1 calculado antes, a mensagem e a assinatura correspondem, caso contrário não correspondem á mesma pessoa."
   ]
  },
  {
   "cell_type": "code",
   "execution_count": 100,
   "metadata": {},
   "outputs": [],
   "source": [
    "    \n",
    "def valida(keys,m,s,sender):\n",
    "    \n",
    "    \n",
    "    n = keys[sender]['public_key'][0]\n",
    "    e = keys[sender]['public_key'][1]\n",
    "    \n",
    "        \n",
    "    HH = hashlib.sha256(m).hexdigest()\n",
    "    m1 = ZZ('0x'+HH)\n",
    "    print(\"m1 = \",m1)\n",
    "    \n",
    "    \n",
    "    m2 = power_mod(s,e,n)\n",
    "    print(\"m2 = \",m2)\n",
    "    \n",
    "    \n",
    "    return m1 == m2"
   ]
  },
  {
   "cell_type": "markdown",
   "metadata": {},
   "source": [
    "# Exemplos\n",
    "Agora com uns pequenos exemplos vamos testar o nosso sistema:"
   ]
  },
  {
   "cell_type": "code",
   "execution_count": 104,
   "metadata": {
    "scrolled": true
   },
   "outputs": [
    {
     "name": "stdout",
     "output_type": "stream",
     "text": [
      "Hash mensagem =  26597243779506947528044713433246156167874695102361963663476175799745301648860\n",
      "Assinatura =  25486871129426990094614540689550836812959157294305548697237799623990554481452660785352863\n",
      "m1 =  26597243779506947528044713433246156167874695102361963663476175799745301648860\n",
      "m2 =  26597243779506947528044713433246156167874695102361963663476175799745301648860\n",
      "O m1 e o m2 correspondem\n"
     ]
    }
   ],
   "source": [
    "m,s = assinatura (keys , 'Henrique', b\"Ola Joao\")\n",
    "v = valida(keys,m,s,'Henrique')\n",
    "print(\"O m1 e o m2 correspondem\" if v else \"O m1 e o m2 não correspondem\")"
   ]
  },
  {
   "cell_type": "code",
   "execution_count": 105,
   "metadata": {},
   "outputs": [
    {
     "name": "stdout",
     "output_type": "stream",
     "text": [
      "Hash mensagem =  115672307424039632516976815098144454233709661282371491025542307220040351831551\n",
      "Assinatura =  9141143681988754312341673816690326655344738873692168233169117483976253085770030461995176\n",
      "m1 =  115672307424039632516976815098144454233709661282371491025542307220040351831551\n",
      "m2 =  115672307424039632516976815098144454233709661282371491025542307220040351831551\n",
      "O m1 e o m2 correspondem\n"
     ]
    }
   ],
   "source": [
    "m,s = assinatura (keys , 'João', b\"Ola Henrique\")\n",
    "v = valida(keys,m,s,'João')\n",
    "print(\"O m1 e o m2 correspondem\" if v else \"O m1 e o m2 não correspondem\")"
   ]
  },
  {
   "cell_type": "markdown",
   "metadata": {},
   "source": [
    "Como podemos verificar a mensagem e a assinatura corresponderam, desta forma podemos verificar que o nosso sistema está a funcionar."
   ]
  },
  {
   "cell_type": "markdown",
   "metadata": {},
   "source": [
    "# Assinatura cega de Chaum\n",
    "\n",
    "Existem esquemas de assinatura cega para muitos métodos de assinatura de chave pública. Mais formalmente, um esquema de assinatura cega é um protocolo criptográfico que envolve duas partes, uma utilizadora Alice que deseja obter assinaturas nas suas mensagens e um assinante Bob. \n",
    "No final do processo, a Alice obtém a assinatura do Bob na sua mensagem sem que o Bob saiba do conteúdo da mensagem.\n",
    "\n",
    "<br>\n",
    "\n",
    "<img style= \"display: block;margin-left: auto;margin-right: auto;margin-top: 20px;\" src=\"https://cdn.discordapp.com/attachments/821737859592880141/838785203572441108/q.png\" width=\"480\" height=\"270\">\n",
    "\n",
    "<br>\n"
   ]
  },
  {
   "cell_type": "markdown",
   "metadata": {},
   "source": [
    "# Blinding\n",
    "\n",
    "Uma assinatura RSA tradicional é calculada elevando a mensagem m à chave privada d módulo chave pública n. \n",
    "A versão cega usa um valor aleatório r, tal que 0 < r < n, de modo que r é primo relativo a n (ou seja, mdc (r, n) = 1) , r é elevado ao expoente público e módulo n:\n",
    "\n",
    "$${\\displaystyle m' = m \\cdot r^{e}{\\pmod {n}}}$$\n",
    "\n",
    "e envia o valor resultante m' para quem vai assinar a mensagem. \n",
    "Como r é um valor aleatório e como $${\\displaystyle r^{e} {\\bmod {n}}}$$ é uma permutação, segue-se que $${\\displaystyle r^{e} {\\bmod {n}}}$$ também é aleatório. \n",
    "Isso implica que m' não contém informação sobre m, assim quem vai assinar a mensagem não tem conhecimento sobre a mensagem m."
   ]
  },
  {
   "cell_type": "code",
   "execution_count": 99,
   "metadata": {},
   "outputs": [],
   "source": [
    "def encriptarBlind (keys , sender , signer, mens):\n",
    "    \n",
    "    \n",
    "    \n",
    "    HH = hashlib.sha256(mens).hexdigest()\n",
    "    m = ZZ('0x'+HH)\n",
    "    n = keys[signer]['public_key'][0]\n",
    "    e = keys[signer]['public_key'][1]\n",
    "    d = keys[signer]['private_key']\n",
    "    \n",
    "    \n",
    "    r = randint(0,n)\n",
    "    \n",
    "    while (gcd(r,n) != 1):\n",
    "        r = randint(0,n)\n",
    "    \n",
    "    \n",
    "    m_linha = mod(m,n) * (power_mod(r,e,n))\n",
    "    \n",
    "    print (\"r = \",r,\"\\n\")\n",
    "    print (\"m' = \",m_linha,\"\\n\")\n",
    "    \n",
    "    return m_linha,r,m"
   ]
  },
  {
   "cell_type": "markdown",
   "metadata": {},
   "source": [
    "# Assinatura\n",
    "De seguida vamos criar a assinatura cega de acordo com a seguinte formula:\n",
    "\n",
    "$${\\displaystyle s' = m'^{d}{\\pmod {n}}}$$\n",
    "\n",
    "Esta assinatura (s') é depois enviada ao autor da mensagem."
   ]
  },
  {
   "cell_type": "code",
   "execution_count": 109,
   "metadata": {},
   "outputs": [],
   "source": [
    "def assinaturaBlind (keys,m_linha,sender,signer):\n",
    "    \n",
    "    d = keys[signer]['private_key']\n",
    "    n = keys[signer]['public_key'][0]\n",
    "    \n",
    "        \n",
    "    s_linha = power_mod(m_linha,d,n)\n",
    "    print (\"s' = \",s_linha,\"\\n\")\n",
    "    \n",
    "    \n",
    "    return s_linha"
   ]
  },
  {
   "cell_type": "markdown",
   "metadata": {},
   "source": [
    "# Validar Assinatura\n",
    "\n",
    "Finalmente o autor da mensagem vai validar a assinatura na mensagem m', para isso a assinatura após a remoção do <i>blinding factor</i> (s1)\n",
    "\n",
    "$${\\displaystyle s1 = s' \\cdot r^{-1} \\pmod {n}}$$\n",
    "\n",
    "E a assinatura de quem assinou m', na mensagem m (s2) têm de igualar\n",
    " \n",
    "$${\\displaystyle s2 = m^{d}{\\pmod {n}}}$$\n",
    "\n",
    "Logo se $s1 = s2$ a assinatura cega é válida.\n",
    "\n"
   ]
  },
  {
   "cell_type": "code",
   "execution_count": 97,
   "metadata": {},
   "outputs": [],
   "source": [
    "def validaAssinatura (keys,s_linha,signer,sender,r,m):\n",
    "    \n",
    "    n = keys[signer]['public_key'][0]\n",
    "    d = keys[signer]['private_key']\n",
    "    \n",
    "        \n",
    "    s1 = mod(s_linha,n) * (power_mod(r,-1, n ))\n",
    "    \n",
    "    s2 = power_mod(m,d,n)\n",
    "    \n",
    "    print(\"s1 = \",s1,\"\\n\")\n",
    "    print(\"s2 = \",s2,\"\\n\")\n",
    "    \n",
    "    return s1 == s2"
   ]
  },
  {
   "cell_type": "markdown",
   "metadata": {},
   "source": [
    "# Exemplos\n",
    "\n",
    "Com uns pequenos exemplos vamos testar o nosso sistema:"
   ]
  },
  {
   "cell_type": "code",
   "execution_count": 118,
   "metadata": {},
   "outputs": [
    {
     "name": "stdout",
     "output_type": "stream",
     "text": [
      "r =  16987078054790715822524241868153274478029463262091435444671746523078722744225387843640671 \n",
      "\n",
      "m' =  23042875446747653178641636783374705380930038928534344040849360322937790630843976449385333 \n",
      "\n",
      "s' =  54408755726430950281950315085733445928093752419957610448784109540544990891356365354005478 \n",
      "\n",
      "s1 =  49663305704380057633249475224962420256549497711906209164374222170937776404050414555761067 \n",
      "\n",
      "s2 =  49663305704380057633249475224962420256549497711906209164374222170937776404050414555761067 \n",
      "\n",
      "S1 e S2 correspondem\n"
     ]
    }
   ],
   "source": [
    "s,r,m = encriptarBlind (keys , 'Henrique' , 'Daniel',b\"Ola Daniel\")\n",
    "ss = assinaturaBlind (keys , s , 'Henrique' , 'Daniel')\n",
    "sss = validaAssinatura (keys , ss , 'Daniel' , 'Henrique',r,m)\n",
    "\n",
    "print(\"S1 e S2 correspondem\" if sss else \"S1 e S2  não correspondem\")"
   ]
  },
  {
   "cell_type": "code",
   "execution_count": 119,
   "metadata": {},
   "outputs": [
    {
     "name": "stdout",
     "output_type": "stream",
     "text": [
      "r =  2303036650718789017536112240858638501516402495868695255452267319886562283833137143625668 \n",
      "\n",
      "m' =  7338936122409252535844631972327498302246055795915616077788004469698773984923780628695088 \n",
      "\n",
      "s' =  10513471178563957547026354340663660101529259223445132177425342629937404541862898834115119 \n",
      "\n",
      "s1 =  127899416007523708408306293785391770679301672374504585295445505998604359806602132736150276 \n",
      "\n",
      "s2 =  29159872200243095489258132446139254438284824254633767725758123568009788592631560748469941 \n",
      "\n",
      "S1 e S2  não correspondem\n"
     ]
    }
   ],
   "source": [
    "s,r,m = encriptarBlind (keys , 'Henrique' , 'João',b\"Ola Joao\")\n",
    "ss = assinaturaBlind (keys , s , 'Henrique' , 'João')\n",
    "sss = validaAssinatura (keys , ss , 'Daniel' , 'Henrique',r,m)\n",
    "\n",
    "print(\"S1 e S2 correspondem\" if sss else \"S1 e S2  não correspondem\")"
   ]
  },
  {
   "cell_type": "markdown",
   "metadata": {},
   "source": [
    "Assim como podemos verificar S1 e S2 correspondem logo o sistema de assinatura cega está a funcionar."
   ]
  }
 ],
 "metadata": {
  "kernelspec": {
   "display_name": "SageMath 9.2",
   "language": "sage",
   "name": "sagemath"
  }
 },
 "nbformat": 4,
 "nbformat_minor": 4
}
