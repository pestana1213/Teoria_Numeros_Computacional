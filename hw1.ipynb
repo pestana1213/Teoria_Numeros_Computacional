{
 "cells": [
  {
   "cell_type": "markdown",
   "metadata": {
    "collapsed": false
   },
   "source": [
    "# Algoritmo de Gordon para geração de primos fortes\n",
    "\n",
    "Realizado por:\n",
    "\n",
    "Carlos Ferreira a87953\n",
    "Joao Nogueira a87973\n",
    "    \n",
    "    "
   ]
  },
  {
   "cell_type": "markdown",
   "metadata": {
    "collapsed": false
   },
   "source": [
    "Ao escolher cuidadosamente os tamanhos dos primos s, t e dos parâmetros i0, j0, pode-se controlar o comprimento de bits exato do primo p resultante. Observe que os comprimentos de bits de r e s serão cerca de metade dos de p, enquanto o comprimento de bits de t será ligeiramente menor que o de r.\n",
    "\n",
    "Como a função random_prime(p) nos da um primo com <= a  p , sentimo s a necessidade de criar uma função que cria um primo com exatamente o número de bits dado como argumento."
   ]
  },
  {
   "cell_type": "code",
   "execution_count": 37,
   "metadata": {
    "collapsed": false,
    "scrolled": true
   },
   "outputs": [
    {
     "name": "stdout",
     "output_type": "stream",
     "text": [
      "bits do s = 197\n",
      "bits do t = 185\n",
      "bits do r = 198\n",
      "Passou as condições logo é primo forte\n",
      "GORDON 6924370618256824322877753870195153395489629429805443554033357153218530879785315298724503892808256606895730144241404055999    402\n"
     ]
    }
   ],
   "source": [
    "def criaPrimo (nbits):\n",
    "    s = 0\n",
    "\n",
    "    while( s < (2^(nbits - 1))):\n",
    "         s = random_prime(2 ^ ( nbits))\n",
    "    \n",
    "    return s\n",
    "\n",
    "\n",
    "def Gordon (nbits) :\n",
    "\n",
    "    s = criaPrimo ((nbits//2)-3)\n",
    "    t = criaPrimo ((nbits//2)-15)\n",
    "    \n",
    "    print(\"bits do s = \" + str(s.nbits()))\n",
    "    print(\"bits do t = \" + str(t.nbits()))\n",
    "    \n",
    "\n",
    "    i = 2^12\n",
    "    r = (2 * t * i) + 1\n",
    "\n",
    "    while (not is_prime(r)):\n",
    "        i+=1\n",
    "        r = (2 * t * i) + 1\n",
    "\n",
    "    print(\"bits do r = \" + str(r.nbits()))\n",
    "\n",
    "    p0 = 2 * (power_mod(s,r-2,r) * s)-1\n",
    "    j = 1\n",
    "    p = (2 * j * r * s) + p0\n",
    "\n",
    "    while (not is_prime(p)):\n",
    "        j+=1\n",
    "        u = 2 * j * r * s\n",
    "        p = u + p0\n",
    "\n",
    "    if power_mod(s,r-1,r)==1 and mod(p0,r)==1 and mod(p0,s)==-1 and mod(p-1,r) == 0 and mod(p+1,s) == 0 and mod(r-1,t) == 0 :\n",
    "        print(\"Passou as condições logo é primo forte\")\n",
    "\n",
    "    return (p)\n",
    "\n",
    "x = 400\n",
    "p = Gordon(x)\n",
    "print(\"GORDON \" + str(p) + \"    \" + str(p.nbits()))"
   ]
  },
  {
   "cell_type": "code",
   "execution_count": 38,
   "metadata": {
    "collapsed": false
   },
   "outputs": [
    {
     "name": "stdout",
     "output_type": "stream",
     "text": [
      "bits do s = 197\n",
      "bits do t = 185\n",
      "bits do r = 198\n",
      "Passou as condições logo é primo forte\n",
      "GORDON 53898212663715898234024500785484815881369275314729908203546276344369042985739518209663596223577467598493598765714663008709    405\n",
      "\n",
      "bits do s = 197\n",
      "bits do t = 185\n",
      "bits do r = 198\n"
     ]
    },
    {
     "name": "stdout",
     "output_type": "stream",
     "text": [
      "Passou as condições logo é primo forte\n",
      "GORDON 3146327793786795833838778046919759998898691897717215333673723668428809392375293320217960453695469575830734320088448068851    401\n",
      "\n",
      "bits do s = 197\n",
      "bits do t = 185\n",
      "bits do r = 198\n",
      "Passou as condições logo é primo forte\n",
      "GORDON 24296193693814419125878041886409933304039609406754539694771235511131962232603935414586977159302470817963468192234888522139    404\n",
      "\n"
     ]
    }
   ],
   "source": [
    "i = 0\n",
    "while i < 3:\n",
    "    p = Gordon(400)\n",
    "    print(\"GORDON \" + str(p) + \"    \" + str(p.nbits()) + \"\\n\")\n",
    "    i+=1"
   ]
  },
  {
   "cell_type": "code",
   "execution_count": 0,
   "metadata": {
    "collapsed": false,
    "scrolled": true
   },
   "outputs": [
   ],
   "source": [
   ]
  },
  {
   "cell_type": "code",
   "execution_count": 0,
   "metadata": {
    "collapsed": false
   },
   "outputs": [
   ],
   "source": [
   ]
  }
 ],
 "metadata": {
  "kernelspec": {
   "display_name": "SageMath 9.2",
   "language": "sagemath",
   "metadata": {
    "cocalc": {
     "description": "Open-source mathematical software system",
     "priority": 10,
     "url": "https://www.sagemath.org/"
    }
   },
   "name": "sage-9.2",
   "resource_dir": "/ext/jupyter/kernels/sage-9.2"
  },
  "language_info": {
   "codemirror_mode": {
    "name": "ipython",
    "version": 3
   },
   "file_extension": ".py",
   "mimetype": "text/x-python",
   "name": "python",
   "nbconvert_exporter": "python",
   "pygments_lexer": "ipython3",
   "version": "3.8.5"
  }
 },
 "nbformat": 4,
 "nbformat_minor": 4
}
