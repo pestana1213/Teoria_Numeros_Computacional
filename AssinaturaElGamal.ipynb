{
 "cells": [
  {
   "cell_type": "markdown",
   "metadata": {},
   "source": [
    "\n",
    "<br>\n",
    "\n",
    "<div style =\"width: 100%;\">\n",
    "<table style =\"width: 100%;background-color:float:center;\">\n",
    "<tr>\n",
    "\n",
    "</tr>\n",
    "    \n",
    "<tr>\n",
    "        \n",
    "<td>\n",
    "<div style=\"font-size: 21px;Margin-left:-10px;\">\n",
    "<b>Esquema de assinatura ElGamal <b>\n",
    "</div>\n",
    "    <br>\n",
    "    <br>\n",
    "<div style=\"font-size: 16px;\">\n",
    "    \n",
    "Realizado por:\n",
    "\n",
    "Carlos Ferreira a87953\n",
    "\n",
    "Daniel Ribeiro a87994\n",
    "\n",
    "João Nogueira a87973\n",
    "</div>\n",
    "</td>\n",
    "<td >\n",
    "<div style=\"display:inline-block; float:right;Margin-right:0px;Margin-top:20px;\">\n",
    "<img src=\"https://www.ecum.uminho.pt/SiteAssets/ECUM-PT.png\" width=\"260\" height=\"120\">\n",
    "<div>\n",
    "</td>\n",
    "</tr>\n",
    "</table>\n",
    "</div>\n",
    "    "
   ]
  },
  {
   "cell_type": "markdown",
   "metadata": {},
   "source": [
    "# Esquema de assinatura ElGamal\n",
    "\n",
    "No seguinte trabalho foi implementada a assinatura de ElGamal, que consiste numa tecnica baseada em propriedades algebricas da exponenciação modular com o problema do logaritmo discreto.\n",
    "<br>\n",
    "<br>\n",
    "A chave privada de cada utilizador é usada para gerar uma assinatura digital para a mensagem. Esta assinatura pode ser verificada usando a sua chave publica.\n",
    "O recetor pode verificar a origem da mensagem e pode tambem verificar se a mensagem foi ou nao alterada desde o seu envio."
   ]
  },
  {
   "cell_type": "markdown",
   "metadata": {},
   "source": [
    "## Geração de chaves\n",
    "\n",
    "Começamos por definir a função $\\textbf{keygen}$ onde geramos as chaves públicas e privadas para um nome passado por parâmetro e aplicamos o algoritmo de geração das chaves:\n",
    "\n",
    "- Geramos um número primo á sorte com dimensões elevadas\n",
    "\n",
    "- Calculamos uma raíz primitiva de p sendo este valor o nosso 'a'\n",
    "\n",
    "- Encontramos um x tal que $1 \\le x < p - 1$ e o máximo divisor comum entre x e p-1 tem de igualar 1\n",
    "\n",
    "- Calculamos ${c ≡ a^{x} (mod \\space p)}$\n",
    "\n",
    "Finalmente as nossas chaves vão ser as seguintes:\n",
    "\n",
    "- Chave pública = (p,a,c)\n",
    "\n",
    "- Chave privada = x\n"
   ]
  },
  {
   "cell_type": "code",
   "execution_count": 124,
   "metadata": {},
   "outputs": [],
   "source": [
    "def keygen(nome): \n",
    "    keys = {}\n",
    "    p = random_prime(2^257 ,2^256)\n",
    "    a = primitive_root(p)\n",
    "    x = randint(1,p-2)\n",
    "\n",
    "    while (gcd(x,p-1) != 1):\n",
    "        x = randint (1,p-2)\n",
    "\n",
    "    c = power_mod(a,x,p)\n",
    "    keys[nome] = {}\n",
    "    keys[nome]['public_key'] = (p,a,c)\n",
    "    keys[nome]['private_key'] = x\n",
    "    return keys\n"
   ]
  },
  {
   "cell_type": "code",
   "execution_count": 66,
   "metadata": {},
   "outputs": [
    {
     "name": "stdout",
     "output_type": "stream",
     "text": [
      "Joao\n",
      "\tpublic_key\n",
      "\t\t(219598960246022047631070004374750985871339110655288597228881898077823373956563, 2, 205177880114982115612390367654537061481379965664333615073299586074419790318876)\n",
      "\tprivate_key\n",
      "\t\t4675333437489562474321285535213297625314903387781075378913563126394002043645\n"
     ]
    }
   ],
   "source": [
    "#função auxiliar para impressão bonita do dicionário\n",
    "def prettyPrint(d, indent=0):\n",
    "      for key, value in d.items():\n",
    "        print('\\t' * indent + str(key))\n",
    "        if isinstance(value, dict):\n",
    "             prettyPrint(value, indent+1)\n",
    "        else:\n",
    "             print('\\t' * (indent+1) + str(value))\n",
    "\n",
    "keys = keygen('Joao')\n",
    "prettyPrint(keys)"
   ]
  },
  {
   "cell_type": "markdown",
   "metadata": {},
   "source": [
    "## Assinatura\n",
    "\n",
    "Na nossa função de assinatura é onde assinamos a mensagem, vai ter como argumentos o dicionário das chaves e o nome de quem vai enviar a mensagem.\n",
    "\n",
    "\n",
    "\n",
    "Começamos por fazer um hash na mensagem m e de seguida, geramos um k tal que: \n",
    "$${\\displaystyle 0<k<p-2}$$\n",
    "$${\\displaystyle e}$$\n",
    "$${\\displaystyle gcd(k,p-1)=1}$$\n",
    "\n",
    "Após isso iremos gerar um r tal que: \n",
    "$${\\displaystyle r=a^kmod(p-1)}$$\n",
    "\n",
    "Por fim iremos gerar um s tal que: \n",
    "$${\\displaystyle s=H(m)-x\\cdot r \\cdot k^{-1}mod(p-1)}$$\n",
    "Caso s=0, a função assinatura volta a executar "
   ]
  },
  {
   "cell_type": "code",
   "execution_count": 96,
   "metadata": {},
   "outputs": [],
   "source": [
    "import hashlib\n",
    "def signature(sender,mensagem): \n",
    "    keys = keygen(sender)\n",
    "    HH = hashlib.sha256(mensagem).hexdigest()\n",
    "    HHH = ZZ('0x'+HH)\n",
    "    x = keys[sender]['private_key']\n",
    "    p = keys[sender]['public_key'][0]\n",
    "    a = keys[sender]['public_key'][1]\n",
    "    k = randint(0,p-1)\n",
    "    \n",
    "    while gcd(k,p-1)!=1: \n",
    "        k=randint(0,p-1)\n",
    "    \n",
    "    \n",
    "    r = power_mod(a,k,p)\n",
    "    s = power_mod((HHH - x*r)*(1/k),1,p-1)\n",
    "\n",
    "    if s == 0: \n",
    "        signature(keys, sender, mensagem)\n",
    "    return (keys,mensagem,r,s)"
   ]
  },
  {
   "cell_type": "markdown",
   "metadata": {},
   "source": [
    "## Verifica assinatura\n",
    "\n",
    "Para verificar uma assinatura (r,s) de uma mensagem m precisamos que ela valide as seguintes condições:\n",
    "\n",
    "c1 = $0 < r < p$\n",
    "\n",
    "c2 = $0 < s < p-1$\n",
    "\n",
    "Caso uma destas não for válida a mensagem é logo rejeitada.\n",
    "\n",
    "Após isto computamos:\n",
    "\n",
    "$v1 ≡ {a^{H(m)}} (mod \\space p)$   onde o H(m) é o hash da mensagem m\n",
    "\n",
    "$v2 ≡ c^{r} \\cdot r^{s} (mod \\space p)$\n",
    "\n",
    "E se\n",
    "\n",
    "c3 = $v1 = v2$\n",
    "\n",
    "for verdade todas as 3 condições são satisfeitas a assinatura é válida caso uma destas condições não for satisfeita, rejeitamos a assinatura.\n",
    "\n"
   ]
  },
  {
   "cell_type": "code",
   "execution_count": 146,
   "metadata": {},
   "outputs": [],
   "source": [
    " def verifica(keys,r,s,mensagem,sender):\n",
    "    \n",
    "    p = keys[sender]['public_key'][0]\n",
    "    a = keys[sender]['public_key'][1]\n",
    "    c = keys[sender]['public_key'][2]\n",
    "    \n",
    "    print(\"p = \",p)\n",
    "    print(\"a = \",a)\n",
    "    print(\"c = \",c)\n",
    "\n",
    "    \n",
    "    HH = hashlib.sha256(mensagem).hexdigest()\n",
    "    HHH = ZZ('0x'+HH)\n",
    "    \n",
    "    c1 = (r > 0 and r < p)\n",
    "    if not c1:\n",
    "        return False\n",
    "    \n",
    "    c2 = (s > 0 and s < p-1) \n",
    "    if not c2:\n",
    "        return False\n",
    "    \n",
    "    v1 = power_mod(a,HHH,p)\n",
    "    print(\"v1 = \",v1)\n",
    "    v2 = mod(power_mod(c,r,p) * power_mod(r,s,p) , p)\n",
    "    print(\"v2 = \",v2)\n",
    "    \n",
    "    c3 = v1 == v2\n",
    "    \n",
    "    \n",
    "    print(\"r = \",r)\n",
    "    print(\"s = \",s)\n",
    "    \n",
    "    return c3\n",
    "        "
   ]
  },
  {
   "cell_type": "markdown",
   "metadata": {},
   "source": [
    "## Exemplos\n",
    "\n",
    "Com uns pequenos exemplos vamos testar o nosso sistema:"
   ]
  },
  {
   "cell_type": "code",
   "execution_count": 153,
   "metadata": {},
   "outputs": [
    {
     "name": "stdout",
     "output_type": "stream",
     "text": [
      "p =  322066867625995949651802024307832585989982912762994038985418410510542277037\n",
      "a =  2\n",
      "c =  299800413030344079346475731895212270283485172857878589866316567565134918041\n",
      "v1 =  45323266731041446061595342794447613463033154671369080909180530772500710563\n",
      "v2 =  45323266731041446061595342794447613463033154671369080909180530772500710563\n",
      "r =  126069318053276631833079698317830564794358672259759660812185766945926028136\n",
      "s =  22693853395904618277955249520017208851554936454775904289306854357770311525\n"
     ]
    },
    {
     "data": {
      "text/plain": [
       "True"
      ]
     },
     "execution_count": 153,
     "metadata": {},
     "output_type": "execute_result"
    }
   ],
   "source": [
    "keys, m , r ,s = signature ('Daniel', b\"Ola Henrique\")\n",
    "verifica(keys , r , s, m,'Daniel')"
   ]
  },
  {
   "cell_type": "code",
   "execution_count": 147,
   "metadata": {},
   "outputs": [
    {
     "name": "stdout",
     "output_type": "stream",
     "text": [
      "p =  11026900836479145608238978157666650549682396748252659100010975400028585308987\n",
      "a =  2\n",
      "c =  3281677727992107301629223622146081403850480284761787124754214117830560073228\n",
      "v1 =  7371396516431643636727253463630624268186817973709143350788214782167490794476\n",
      "v2 =  7371396516431643636727253463630624268186817973709143350788214782167490794476\n",
      "r =  2323218945885483216033600166767389254019625863675279925973287324660341211117\n",
      "s =  2034562847686403902724285901888985529320323565312707633154153834454749310366\n"
     ]
    },
    {
     "data": {
      "text/plain": [
       "True"
      ]
     },
     "execution_count": 147,
     "metadata": {},
     "output_type": "execute_result"
    }
   ],
   "source": [
    "keys, m , r ,s = signature ('Joao', b\"Ola Daniel\")\n",
    "verifica(keys , r , s, m,'Joao')"
   ]
  },
  {
   "cell_type": "code",
   "execution_count": 150,
   "metadata": {},
   "outputs": [
    {
     "name": "stdout",
     "output_type": "stream",
     "text": [
      "p =  218634623098503492693233197324713247720131145773260543417317257422890714167503\n",
      "a =  5\n",
      "c =  152332420519541666115225772978643933221302172211025947509192045764924348160154\n",
      "v1 =  105198032881613611275633178823678768038510776157497993507719783202820420662526\n",
      "v2 =  44799378430074846678848887985342303685128457959752068762574474844669286096023\n",
      "r =  122439669261371935382996665076687343128875658658927084544773828741876812607288\n",
      "s =  114031886746554783367892027842476509655174135132092780865002364393292133308753\n"
     ]
    },
    {
     "data": {
      "text/plain": [
       "False"
      ]
     },
     "execution_count": 150,
     "metadata": {},
     "output_type": "execute_result"
    }
   ],
   "source": [
    "keys, m , r ,s = signature ('Joao', b\"Ola Henrique\")\n",
    "verifica(keys , r , s, b\"Ola Joao\",'Joao')"
   ]
  }
 ],
 "metadata": {
  "kernelspec": {
   "display_name": "SageMath 9.2",
   "language": "sage",
   "name": "sagemath"
  },
  "language_info": {
   "codemirror_mode": {
    "name": "ipython",
    "version": 3
   },
   "file_extension": ".py",
   "mimetype": "text/x-python",
   "name": "python",
   "nbconvert_exporter": "python",
   "pygments_lexer": "ipython3",
   "version": "3.7.7"
  }
 },
 "nbformat": 4,
 "nbformat_minor": 4
}
