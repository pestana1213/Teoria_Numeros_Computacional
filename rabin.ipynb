{
 "cells": [
  {
   "cell_type": "markdown",
   "metadata": {},
   "source": [
    "\n",
    "\n",
    "<br>\n",
    "\n",
    "<div style =\"width: 100%;\">\n",
    "<table style =\"width: 100%;background-color:float:center;\">\n",
    "<tr>\n",
    "\n",
    "</tr>\n",
    "    \n",
    "<tr>\n",
    "        \n",
    "<td>\n",
    "<div style=\"font-size: 21px;Margin-left:-10px;\">\n",
    "<b>Sistema criptográfico de chave pública de Rabin<b>\n",
    "</div>\n",
    "    <br>\n",
    "    <br>\n",
    "<div style=\"font-size: 16px;\">\n",
    "    \n",
    "Realizado por:\n",
    "\n",
    "Carlos Ferreira a87953\n",
    "\n",
    "Daniel Ribeiro a87994\n",
    "\n",
    "João Nogueira a87973\n",
    "</div>\n",
    "</td>\n",
    "<td >\n",
    "<div style=\"display:inline-block; float:right;Margin-right:0px;Margin-top:20px;\">\n",
    "<img src=\"https://www.ecum.uminho.pt/SiteAssets/ECUM-PT.png\" width=\"260\" height=\"120\">\n",
    "<div>\n",
    "</td>\n",
    "</tr>\n",
    "</table>\n",
    "</div>\n",
    "    "
   ]
  },
  {
   "cell_type": "markdown",
   "metadata": {},
   "source": [
    "# Sistema de Rabin\n",
    "No seguinte trabalho foi implementado o sistema de Rabin, que consiste em uma técnica para a encriptação e desicriptação de mensagens, visando a proteção da mesma. \n",
    "<br>\n",
    "<br>\n",
    "De seguida iremos explicar como foi implementado este sistema em python, explicando cada função do mesmo suportado pela teoria por de trás disto tudo."
   ]
  },
  {
   "cell_type": "markdown",
   "metadata": {},
   "source": [
    "## Geração das chaves\n",
    "\n",
    "Sistema de Rabin é um criptossistema assimétrico, onde cada pessoa possui uma chave pública, que pode ser partilhada e publicada, e possui também uma chave privada que deverá ser conhecida apenas pelo proprietário da mesma.\n",
    "Num criptossistema assimétrico, qualquer pessoa pode encriptar uma mensagem usando a chave pública do destinatário. Essa mensagem encriptada deve ser desencriptada com a chave privada do destinatário.\n",
    "\n",
    "<img style= \"display: block;margin-left: auto;margin-right: auto;\" src=\"https://cdn.discordapp.com/attachments/821737859592880141/834488578339635240/1024px-Public_key_encryption.png\" width=\"480\" height=\"270\">\n",
    "\n",
    "Começamos por gerar dois números primos grandes, distintos p e q. De forma a simplificar os cálculos das raízes quadradas módulo p e q, escolhemos p e q tal que:\n",
    "$${p\\equiv q\\equiv 3 \\space ({\\bmod {4}}})$$\n",
    "Mas o esquema funciona com qualquer primos.\n",
    "\n",
    "Calculámos de seguida:\n",
    "$${\\displaystyle n=p\\cdot q}$$ \n",
    "Este $\\textbf{n}$ será a $\\textbf{chave pública}$ enquanto que a $\\textbf{chave privada}$ será o par $\\textbf{(p,q)}$.\n",
    "\n",
    "\n",
    "\n",
    "Criámos então uma função $\\textbf{gera_primo}$ que nos vai auxiliar na geração de primos grandes congruentes com 3 módulo 4."
   ]
  },
  {
   "cell_type": "code",
   "execution_count": 2,
   "metadata": {},
   "outputs": [],
   "source": [
    "def gera_primo():\n",
    "    \n",
    "    p = random_prime(2^100,2^105)\n",
    "    \n",
    "    while (mod(p,4) != 3):\n",
    "        p = random_prime(2^100,2^105)\n",
    "    \n",
    "    return p"
   ]
  },
  {
   "cell_type": "markdown",
   "metadata": {},
   "source": [
    "A nossa função $\\textbf{key_generation}$ recebe como argumento uma lista de nomes, e para cada nome dessa lista vão ser gerados dois primos p e q pela $\\textbf{gera_primo}$  cujo par (p,q) vai formar a $\\textbf{chave privada}$ relativa a esse nome, e será também calculado o $\\textbf{n}$, que será a $\\textbf{chave pública}$ relativa a esse nome.\n",
    "Ambas as chaves serão depois adicionadas ao dicionário."
   ]
  },
  {
   "cell_type": "code",
   "execution_count": 3,
   "metadata": {},
   "outputs": [],
   "source": [
    "#Função de geração de chaves públicas e privadas para o sender e para o receiver\n",
    "def key_generation (nomes):\n",
    "\n",
    "    keys = {}\n",
    "    for nome in nomes:\n",
    "        \n",
    "        p = gera_primo()\n",
    "        q = gera_primo()\n",
    "        n = p * q\n",
    "\n",
    "\n",
    "        keys[nome] = {}\n",
    "        keys[nome]['public_key'] = n\n",
    "        keys[nome]['private_key'] = (p,q)\n",
    "\n",
    "    return keys"
   ]
  },
  {
   "cell_type": "markdown",
   "metadata": {},
   "source": [
    "## Encriptação\n",
    "\n",
    "Aqui temos a função de encriptação da mensagem que recebe o dicionário das chaves e o receptor da mesma.\n",
    "<br>\n",
    "<br> \n",
    "Começamos por ir buscar a chave pública do receptor, e geramos uma mensagem que tem até metade do comprimento dessa chave, pois vamos depois duplicar-la de seguida (para a codificar) e esta duplicação não pode exceder o intervalo [0, n-1] sendo n o tamanho da chave pública.\n",
    "<br> \n",
    "<br> \n",
    "Após isso é só usar o algoritmo da encriptação sendo a nossa mensagem cifrada (c), a mensagem gerada elevada a 2 em módulo n:\n",
    "<br> \n",
    "<br> \n",
    "$$\n",
    "c = m^{2} \\space mod \\space n\n",
    "$$\n",
    "\n"
   ]
  },
  {
   "cell_type": "code",
   "execution_count": 4,
   "metadata": {},
   "outputs": [],
   "source": [
    "def encriptar (keys , receptor):\n",
    "\n",
    "    #Vamos buscar a chave pública do receptor\n",
    "    n = keys[receptor]['public_key']\n",
    "           \n",
    "\n",
    "    mens = randint(0,int(str(n)[0:(len(str(n))//(2))]))  #pega só na primeira metade da chave\n",
    "    print(\"mens = \",mens)\n",
    "    mm = str(mens) * 2                                   #duplica a chave\n",
    "    mens = int(mm)\n",
    "\n",
    "    c = power_mod(mens , 2 , n)           \n",
    "    print (\"c = \" , c)\n",
    "    return c"
   ]
  },
  {
   "cell_type": "markdown",
   "metadata": {},
   "source": [
    "## Desencriptação\n",
    "\n",
    "E finalmente temos a função de desencriptação que há semelhança da função de encriptação recebe o dicionário das chaves e o receptor da mensagem e também o c que é a mensagem encriptada.\n",
    "<br> \n",
    "<br> \n",
    "Guardamos em $\\textbf{p}$ $\\textbf{q}$ os primos da chave privada e em $\\textbf{n}$ a chave pública.\n",
    "<br> \n",
    "Após isso aplicamos o algoritmo de Rabin.\n",
    "<br> \n",
    "Começando por usar o algoritmo de euclides extendido para calcular o a e b que satisfaça:\n",
    "$$\n",
    "    a*p + b*q = 1\n",
    "$$\n",
    "<br> \n",
    "Com $\\textbf{a}$ e $\\textbf{b}$ calculados já podemos calcular o nosso $\\textbf{r}$, $\\textbf{s}$, $\\textbf{x}$ e $\\textbf{y}$ apenas usando as seguintes fórmulas:\n",
    "$$\n",
    "    r = c^{(p+1)/4} \\space mod \\space p\\\\\n",
    "    s = c^{(q+1)/4} \\space mod \\space q\\\\\n",
    "    x = a*p*s + b*q*r \\space mod \\space n \\\\\n",
    "    y = a*p*s - b*q*r \\space mod \\space n \\\\\n",
    "$$\n",
    "\n",
    "Assim sendo as 4 alternativas da mensagem serão:\n",
    "\n",
    "$$\n",
    "    x \\\\\n",
    "    -x \\space mod \\space n \\\\\n",
    "    y \\\\\n",
    "    -y \\space mod \\space n \\\\\n",
    "$$\n",
    "\n"
   ]
  },
  {
   "cell_type": "code",
   "execution_count": 9,
   "metadata": {},
   "outputs": [],
   "source": [
    "def desencriptar (keys , c , receptor):\n",
    "\n",
    "    p = keys[receptor]['private_key'][0]\n",
    "    q = keys[receptor]['private_key'][1]\n",
    "    n = keys[receptor]['public_key']\n",
    "\n",
    "    \n",
    "    _,a,b = xgcd(p,q)  #algoritmo de euclides extendido \n",
    "\n",
    "    #aplicação das fórmulas\n",
    "    r = power_mod(c , (p+1)//4 , p)\n",
    "    s = power_mod(c, (q+1)//4 , q)\n",
    "    x = mod((a*p*s) + (b*q*r) , n )\n",
    "    y = mod((a*p*s) - (b*q*r) , n )\n",
    "\n",
    "\n",
    "    #impressão das possíveis mensagens\n",
    "    print(\"m1 = \",x,\"\\nm2 = \",mod(-x,n),\"\\nm3 = \",y,\"\\nm4 = \",mod(-y,n),\"\\n\")    \n",
    "    \n",
    "    \n",
    "    "
   ]
  },
  {
   "cell_type": "markdown",
   "metadata": {},
   "source": [
    "##  Premissa de segurança\n",
    "\n",
    "Uma desvantagem do esquema de chave pública de Rabin é que o receptor se depara com a tarefa de selecionar a mensagem correta entre quatro possibilidades. Esta ambiguidade pode ser facilmente superada na prática, adicionando redundância pré-especificada para o texto simples original antes da criptografia, como no nosso caso a repetição da mensagem.  Então, com alta probabilidade, exatamente uma das quatro raízes quadradas m1, m2, m3, m4 de um texto cifrado legítimo c possuirão essa redundância, e o receptor irá selecioná-lo como a mensagem pretendida. Se nenhuma das raízes quadradas de c possui essa redundância, então o receptor deve rejeitar a mensagem cifrada como fraudulenta. \n",
    "\n",
    "\n",
    "\n",
    "Se a redundância for usada como acima, o esquema de Rabin não é mais suscetível ao $\\bf{\"chosen \\space ciphertext \\space attack\"}$. \n",
    "\n",
    "Num $\\bf{\"chosen \\space ciphertext \\space attack\"}$ assume-se que o atacante de alguma forma tem acesso as desencriptações das mensagens que a pessoa A recebe, mas não sabe a chave privada de A e tem como objetivo descobri-la. \n",
    "\n",
    " Se o atacante intercetar uma mensagem m com a redundância necessária , mesmo com acesso a desencriptação da mensagem m, o atacante não saberá a mensagem real que foi enviada. Por outro lado, se o atacante intercetar uma mensagem m que não contém a redundância necessária, então, com alta probabilidade, nenhuma das quatro raízes quadradas possuirá a redundância necessária logo o atacante não obterá resposta."
   ]
  },
  {
   "cell_type": "markdown",
   "metadata": {},
   "source": [
    "## Exemplos\n",
    "De seguida serão mostrados do bom funcionamento da nossa implementação do algoritmo de Rabin."
   ]
  },
  {
   "cell_type": "code",
   "execution_count": 10,
   "metadata": {},
   "outputs": [
    {
     "name": "stdout",
     "output_type": "stream",
     "text": [
      "Henrique\n",
      "\tpublic_key\n",
      "\t\t100217162133140500481816006495814265940501603953580088575197\n",
      "\tprivate_key\n",
      "\t\t(201522624413678108220030535403, 497299806533972370748086010199)\n",
      "Daniel\n",
      "\tpublic_key\n",
      "\t\t6583065895299005005845626962612827406188814347697960039321\n",
      "\tprivate_key\n",
      "\t\t(23004552433753969758733665347, 286163615408567870474842880243)\n",
      "João\n",
      "\tpublic_key\n",
      "\t\t597346852419103500337442533320865481361845780218927241044489\n",
      "\tprivate_key\n",
      "\t\t(565947427761523718579409587723, 1055481168598597685533249478843)\n"
     ]
    }
   ],
   "source": [
    "#função auxiliar para impressão bonita do dicionário\n",
    "def prettyPrint(d, indent=0):\n",
    "    for key, value in d.items():\n",
    "        print('\\t' * indent + str(key))\n",
    "        if isinstance(value, dict):\n",
    "            prettyPrint(value, indent+1)\n",
    "        else:\n",
    "            print('\\t' * (indent+1) + str(value))\n",
    "\n",
    "\n",
    "\n",
    "keys = key_generation(['Henrique','Daniel','João'])\n",
    "prettyPrint (keys)"
   ]
  },
  {
   "cell_type": "code",
   "execution_count": 13,
   "metadata": {},
   "outputs": [
    {
     "name": "stdout",
     "output_type": "stream",
     "text": [
      "----------------------------------------------------------------------------\n",
      "Henrique -> Daniel\n",
      "----------------------------------------------------------------------------\n",
      "mens =  44089348291439183609140894863\n",
      "c =  3707000897263643404956909504280340108608312351057881423903\n",
      "m1 =  4408934829143918360914089486344089348291439183609140894863 \n",
      "m2 =  2174131066155086644931537476268738057897375164088819144458 \n",
      "m3 =  3101406365640600648418856481355197112482325685325473425056 \n",
      "m4 =  3481659529658404357426770481257630293706488662372486614265 \n",
      "\n"
     ]
    }
   ],
   "source": [
    "# Henrique -> Daniel\n",
    "# Henrique envia uma mensagem ao Daniel\n",
    "print(\"----------------------------------------------------------------------------\")\n",
    "print(\"Henrique -> Daniel\")\n",
    "print(\"----------------------------------------------------------------------------\")\n",
    "desencriptar(keys ,encriptar(keys , 'Daniel') , 'Daniel')\n"
   ]
  },
  {
   "cell_type": "code",
   "execution_count": 14,
   "metadata": {},
   "outputs": [
    {
     "name": "stdout",
     "output_type": "stream",
     "text": [
      "----------------------------------------------------------------------------\n",
      "João -> Henrique\n",
      "----------------------------------------------------------------------------\n",
      "mens =  80978290608524098872894401860\n",
      "c =  28059295607025097329468668327164743055833547120897888885304\n",
      "m1 =  21236921514213759191107449016586192752936407939416001199450 \n",
      "m2 =  78980240618926741290708557479228073187565196014164087375747 \n",
      "m3 =  92119333072288090594526566309733287649893079854707194173337 \n",
      "m4 =  8097829060852409887289440186080978290608524098872894401860 \n",
      "\n"
     ]
    }
   ],
   "source": [
    "# João -> Henrique\n",
    "# João envia uma mensagem ao Henrique\n",
    "print(\"----------------------------------------------------------------------------\")\n",
    "print(\"João -> Henrique\")\n",
    "print(\"----------------------------------------------------------------------------\")\n",
    "desencriptar(keys ,encriptar(keys , 'Henrique') , 'Henrique')"
   ]
  },
  {
   "cell_type": "code",
   "execution_count": null,
   "metadata": {},
   "outputs": [],
   "source": []
  }
 ],
 "metadata": {
  "kernelspec": {
   "display_name": "SageMath 9.2",
   "language": "sage",
   "name": "sagemath"
  },
  "language_info": {
   "codemirror_mode": {
    "name": "ipython",
    "version": 3
   },
   "file_extension": ".py",
   "mimetype": "text/x-python",
   "name": "python",
   "nbconvert_exporter": "python",
   "pygments_lexer": "ipython3",
   "version": "3.7.7"
  }
 },
 "nbformat": 4,
 "nbformat_minor": 4
}
